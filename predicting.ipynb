{
 "cells": [
  {
   "cell_type": "markdown",
   "metadata": {},
   "source": [
    "## Overview of the project##\n",
    "\n",
    "In this project, I would apply machine learning algorithms to predict the final price of each residential home in Ames, Iowa, using 79 explanatory variables describing most aspects of these homes. The end-user of this project could be someone who plans to buy a house in Ames or real estate agents. \n",
    "A minimum viable product (MVP) out of this project could be a Jupyter notebook that users can use to predict the sale price of houses in Ames after entering the required information.\n",
    "This project will be based on supervised machine learning (ML) algorithms. I will build an ensemble ML model using the existing data (i.e., the known sale price of Ames houses with different aspects) and use this model to predict the sale price of a specific house after users enter the required information.\n",
    "The dataset was originally prepared by Dean De Cock and was slightly revised by Kaggle https://www.kaggle.com/c/house-prices-advanced-regression-techniques/data\n",
    "As an MVP, the GUI of this product might be just a Jupyter notebook. But if possible, I might make it more user-friendly."
   ]
  },
  {
   "cell_type": "code",
   "execution_count": 1,
   "metadata": {},
   "outputs": [],
   "source": [
    "# Import core libraries\n",
    "import pandas as pd\n",
    "import numpy as np\n",
    "from sklearn.model_selection import train_test_split\n",
    "from sklearn.linear_model import LinearRegression\n",
    "from sklearn.metrics import mean_squared_error, make_scorer\n",
    "from IPython.display import display"
   ]
  },
  {
   "cell_type": "code",
   "execution_count": 2,
   "metadata": {},
   "outputs": [],
   "source": [
    "# Step 1: Read user dataset and the datesets used to build the model.\n",
    "user = pd.read_csv('user.csv')\n",
    "ames_core = pd.read_csv('ames_core.csv')\n",
    "label = pd.read_csv('label.csv')"
   ]
  },
  {
   "cell_type": "code",
   "execution_count": 3,
   "metadata": {},
   "outputs": [
    {
     "data": {
      "text/plain": [
       "LinearRegression()"
      ]
     },
     "execution_count": 3,
     "metadata": {},
     "output_type": "execute_result"
    }
   ],
   "source": [
    "# Step 2: Simply run linear regression as a base model.\n",
    "X_train, X_test, y_train, y_test = train_test_split(ames_core, label,test_size = .3, random_state=0)\n",
    "lr = LinearRegression()\n",
    "lr.fit(X_train, y_train)"
   ]
  },
  {
   "cell_type": "code",
   "execution_count": 4,
   "metadata": {},
   "outputs": [
    {
     "name": "stdout",
     "output_type": "stream",
     "text": [
      "[[208170.]\n",
      " [153574.]]\n"
     ]
    }
   ],
   "source": [
    "#Step 3: Using the model above to make predictions based on the information gaven by the user\n",
    "y_pred = lr.fit(X_train, y_train).predict(user)\n",
    "np.set_printoptions(precision=0)\n",
    "print(np.expm1(y_pred))"
   ]
  }
 ],
 "metadata": {
  "kernelspec": {
   "display_name": "Python 3",
   "language": "python",
   "name": "python3"
  },
  "language_info": {
   "codemirror_mode": {
    "name": "ipython",
    "version": 3
   },
   "file_extension": ".py",
   "mimetype": "text/x-python",
   "name": "python",
   "nbconvert_exporter": "python",
   "pygments_lexer": "ipython3",
   "version": "3.6.4"
  }
 },
 "nbformat": 4,
 "nbformat_minor": 2
}
